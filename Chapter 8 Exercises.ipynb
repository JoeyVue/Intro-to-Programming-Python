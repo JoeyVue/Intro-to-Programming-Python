{
 "cells": [
  {
   "cell_type": "markdown",
   "id": "fc98260f",
   "metadata": {},
   "source": [
    "# Chapter 8 exercise\n",
    "\n",
    "## Algorithm Workbench 1, 2\n",
    "## Programming exercises 1, 2, 3, 10"
   ]
  },
  {
   "cell_type": "markdown",
   "id": "f903fc42",
   "metadata": {},
   "source": [
    "##### Algorithm Workbench"
   ]
  },
  {
   "cell_type": "markdown",
   "id": "397771ba",
   "metadata": {},
   "source": [
    "Q1\n",
    "\n",
    "Assume  references a string. The following  statement determines whether is equal to ‘Y’ or ‘y’: \n",
    "\n",
    "if choice == 'Y' or choice == 'y' :\n",
    " \n",
    "Rewrite this statement so it only makes one comparison, and does not use the  operator. (Hint: use either the  or  methods.)"
   ]
  },
  {
   "cell_type": "code",
   "execution_count": null,
   "id": "624f1e09",
   "metadata": {},
   "outputs": [],
   "source": [
    "# rewrite the statement\n",
    "if choice.lower() == 'y':"
   ]
  },
  {
   "cell_type": "markdown",
   "id": "0c628fec",
   "metadata": {},
   "source": [
    "I rewrote the statement by having the \".lower()\" code to be able to use both \"Y\" and \"y.\""
   ]
  },
  {
   "cell_type": "markdown",
   "id": "2263e0b7",
   "metadata": {},
   "source": [
    "Q2 \n",
    "\n",
    "Write a loop that counts the number of space characters that appear in the string referenced by \"mystring\"."
   ]
  },
  {
   "cell_type": "code",
   "execution_count": 7,
   "id": "623243de",
   "metadata": {},
   "outputs": [
    {
     "name": "stdout",
     "output_type": "stream",
     "text": [
      "Enter Text: t t t t t t t t t\n",
      "number of spaces: 8\n"
     ]
    }
   ],
   "source": [
    "# create input for string\n",
    "input_string = input(\"Enter Text: \")\n",
    "\n",
    "# create vaule for \"space_count\"\n",
    "space_count = 0\n",
    "\n",
    "# make variable for the number of spaces.\n",
    "for char in input_string:\n",
    "    if char == ' ':\n",
    "        space_count+= 1\n",
    "\n",
    "# display the number of added spaces from \"space_count\" from the given text.\n",
    "print(\"number of spaces:\", space_count)"
   ]
  },
  {
   "cell_type": "markdown",
   "id": "5274853f",
   "metadata": {},
   "source": [
    "I created a code that lists the number of spaces within the text. I made the \"space_count\" vaule\n",
    "0 by default, and the vaule of spaces counted to 1. So the code should count the number of spaces from the \"input_string\" display them."
   ]
  },
  {
   "cell_type": "markdown",
   "id": "eaae2245",
   "metadata": {},
   "source": [
    "###### Programming exercises"
   ]
  },
  {
   "cell_type": "markdown",
   "id": "d106e448",
   "metadata": {},
   "source": [
    "Q1\n",
    "\n",
    "Write a program that gets a string containing a person’s first, middle, and last names, and displays their first, middle, and last initials. For example, if the user enters John William Smith, the program should display J. W. S."
   ]
  },
  {
   "cell_type": "code",
   "execution_count": 13,
   "id": "09316b3a",
   "metadata": {},
   "outputs": [
    {
     "name": "stdout",
     "output_type": "stream",
     "text": [
      "full name: joey cher vue\n",
      "initials: J. C. V. \n"
     ]
    }
   ],
   "source": [
    "# create input for user's name.\n",
    "full_name = input(\"full name: \")\n",
    "\n",
    "# Split the parts of the name\n",
    "name_parts = full_name.split()\n",
    "\n",
    "# create variable for initials\n",
    "initials = \"\"\n",
    "\n",
    "# Extract the first letter of each word\n",
    "for part in name_parts:\n",
    "    initials += part[0].upper() + \". \"\n",
    "    \n",
    "# display the initials\n",
    "print(\"initials:\", initials)"
   ]
  },
  {
   "cell_type": "markdown",
   "id": "17bbd82f",
   "metadata": {},
   "source": [
    "I created a code that will write down a string of an initals of a persons name. I had the user to input their name, and then the name will be read from each part their name. Each part will be displayed as the first letter, then they will be uppercased if not."
   ]
  },
  {
   "cell_type": "markdown",
   "id": "14cc0ef2",
   "metadata": {},
   "source": [
    "Q2\n",
    "\n",
    "Write a program that asks the user to enter a series of single-digit numbers with nothing separating them. The program should display the sum of all the single digit numbers in the string. For example, if the user enters 2514, the method should return 12, which is the sum of 2, 5, 1, and 4."
   ]
  },
  {
   "cell_type": "code",
   "execution_count": 22,
   "id": "7ae8a113",
   "metadata": {},
   "outputs": [
    {
     "name": "stdout",
     "output_type": "stream",
     "text": [
      "Enter number: 3427\n",
      "Sum of single-digit number 16\n"
     ]
    }
   ],
   "source": [
    "# Create input for number\n",
    "input_string = input(\"Enter number: \")\n",
    "\n",
    "# Create vaule for the total\n",
    "total = 0\n",
    "\n",
    "# Read each number in the input string\n",
    "for char in input_string:\n",
    "    \n",
    "    # read digit\n",
    "    if char.isdigit():\n",
    "        \n",
    "        # Convert number into an integer.\n",
    "        digit = int(char)\n",
    "        # add integer to sum.\n",
    "        total += digit\n",
    "        \n",
    "#display the sum\n",
    "print(\"Sum of single-digit number\", total)"
   ]
  },
  {
   "cell_type": "markdown",
   "id": "4ab600a8",
   "metadata": {},
   "source": [
    "I created a code that displays the sum without seprating the single-digit numbers. I coded for each number will become an integer. So each number will be reconized as a seprate chracter. All of the single digit numbers are then added up."
   ]
  },
  {
   "cell_type": "markdown",
   "id": "998feaba",
   "metadata": {},
   "source": [
    "Q3\n",
    "\n",
    "Write a program that reads a string from the user containing a date in the form mm/dd/yyyy. It should print the date in the format March 12, 2018."
   ]
  },
  {
   "cell_type": "code",
   "execution_count": 30,
   "id": "77b30479",
   "metadata": {},
   "outputs": [
    {
     "name": "stdout",
     "output_type": "stream",
     "text": [
      "Enter date format mm/dd/yyyy: 01/01/2001\n",
      "Formatted date: January 01, 2001\n"
     ]
    }
   ],
   "source": [
    "from datetime import datetime\n",
    "\n",
    "# create input for date\n",
    "date_string = input(\"Enter date format mm/dd/yyyy: \")\n",
    "\n",
    "try:\n",
    "    # parse input date string into datetime\n",
    "    date_obj = datetime.strptime(date_string, \"%m/%d/%Y\")\n",
    "    \n",
    "    # Format datetime to desired format\n",
    "    formatted_date = date_obj.strftime(\"%B %d, %Y\")\n",
    "    \n",
    "    # display formatted date\n",
    "    print(\"Formatted date:\", formatted_date)\n",
    "    \n",
    "except VauleError:\n",
    "    print(\"Error, Invalid Format.\")"
   ]
  },
  {
   "cell_type": "markdown",
   "id": "b6da14b1",
   "metadata": {},
   "source": [
    "I created a code that reads the string from the user's given date. I used \"datetime\" to list the months, days, and year. I then parsed what I wanted from datetime, giving me the format for the month name, day, and year. I had to create an error vaule so the code will funtion even if the format is invalid."
   ]
  },
  {
   "cell_type": "markdown",
   "id": "a3cf28e5",
   "metadata": {},
   "source": [
    "Q10\n",
    "\n",
    "Write a program that lets the user enter a string and displays the character that appears most frequently in the string."
   ]
  },
  {
   "cell_type": "code",
   "execution_count": 41,
   "id": "1dd91383",
   "metadata": {},
   "outputs": [
    {
     "name": "stdout",
     "output_type": "stream",
     "text": [
      "Enter string: akhafkaaifenajaafa\n",
      "The most frequent character is: a     Appearance: 8 times.\n"
     ]
    }
   ],
   "source": [
    "# create input for string\n",
    "input_string = input(\"Enter string: \")\n",
    "\n",
    "# create empty dictionary to to store the character count\n",
    "char_count = {}\n",
    "\n",
    "# read each character in the string\n",
    "for char in input_string:\n",
    "    \n",
    "    # ignore non letters \n",
    "    if char.isalpha():\n",
    "        char_count[char] = char_count.get(char, 0) + 1\n",
    "\n",
    "# sum up the most frequent number\n",
    "most_frequent_char = max(char_count, key=char_count.get)\n",
    "\n",
    "# display the most frequent letter\n",
    "print(\"The most frequent character is: {}     Appearance: {} times.\".format(most_frequent_char, char_count[most_frequent_char]))"
   ]
  },
  {
   "cell_type": "markdown",
   "id": "7194c218",
   "metadata": {},
   "source": [
    "I created a code that displays the most frequent shown character in a string. I created an empty character dictionary, that will then store the letters. I wanted to filter the symbols, so I added \"char.isalpha.\" After each character is counted, I used the \"max\" function to retrieve the largest number. I believe it also takes the most left number if there are an even amount of characters by default."
   ]
  },
  {
   "cell_type": "code",
   "execution_count": null,
   "id": "578e6327",
   "metadata": {},
   "outputs": [],
   "source": []
  }
 ],
 "metadata": {
  "kernelspec": {
   "display_name": "Python 3 (ipykernel)",
   "language": "python",
   "name": "python3"
  },
  "language_info": {
   "codemirror_mode": {
    "name": "ipython",
    "version": 3
   },
   "file_extension": ".py",
   "mimetype": "text/x-python",
   "name": "python",
   "nbconvert_exporter": "python",
   "pygments_lexer": "ipython3",
   "version": "3.11.4"
  }
 },
 "nbformat": 4,
 "nbformat_minor": 5
}
