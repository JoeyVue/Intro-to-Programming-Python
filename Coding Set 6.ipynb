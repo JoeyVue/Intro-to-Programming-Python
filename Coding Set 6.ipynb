{
 "cells": [
  {
   "cell_type": "code",
   "execution_count": null,
   "id": "add18dc2",
   "metadata": {},
   "outputs": [],
   "source": [
    "# Chapter 6 exercise\n",
    "# Algorithm Workbench 1\n",
    "# Programming exercises"
   ]
  },
  {
   "cell_type": "code",
   "execution_count": 13,
   "id": "9a49e410",
   "metadata": {},
   "outputs": [],
   "source": [
    "# Algorithm Workbench\n",
    "# Q1\n",
    "\n",
    "def main():\n",
    "    # opening the file with named text.\n",
    "    W_File = open('my_name.txt','a')\n",
    "    \n",
    "    # Write name into the txt document\n",
    "    W_File.write(\"Joey Vue\")\n",
    "    \n",
    "    # Close file\n",
    "    W_File.close()\n",
    "main()"
   ]
  },
  {
   "cell_type": "code",
   "execution_count": 22,
   "id": "922ad7d5",
   "metadata": {},
   "outputs": [
    {
     "name": "stdout",
     "output_type": "stream",
     "text": [
      "Joey Vue\n"
     ]
    }
   ],
   "source": [
    "# Q2\n",
    "\n",
    "# After running Q1, your name should be written in the \"my_name.txt\" file.\n",
    "\n",
    "def main ():\n",
    "    # open the \"my_name.txt\" file.\n",
    "    W_File = open('my_name.txt','r')\n",
    "    \n",
    "    # read the file contents.\n",
    "    open_file = W_File.read()\n",
    "    \n",
    "    # close file\n",
    "    W_File.close()\n",
    "    \n",
    "    # print name\n",
    "    print(open_file)\n",
    "main()"
   ]
  },
  {
   "cell_type": "code",
   "execution_count": 79,
   "id": "1d8edb64",
   "metadata": {},
   "outputs": [
    {
     "name": "stdout",
     "output_type": "stream",
     "text": [
      "Error, numbers.txt dosen't exist!\n"
     ]
    }
   ],
   "source": [
    "# Programming Exercises\n",
    "# Q1\n",
    "\n",
    "def main ():\n",
    "    try:\n",
    "        # open the \"numbers.txt\" file.\n",
    "        A_File = open('numbers.txt','r')\n",
    "        \n",
    "        # read the file contents.\n",
    "        open_file = A_File.read()\n",
    "        \n",
    "        # close file\n",
    "        A_File.close()\n",
    "        \n",
    "        # display \"numbers.txt,\" which should display the list of numbers.\n",
    "        print(open_file)\n",
    "        \n",
    "        # Because we are only assuming the \"numbers.txt\" file exists, there will be an error.\n",
    "    except FileNotFoundError:\n",
    "        print(\"Error, numbers.txt dosen't exist!\")\n",
    "    except Exception as e:\n",
    "        print(f\"Error:{e}\")\n",
    "main()"
   ]
  },
  {
   "cell_type": "code",
   "execution_count": 80,
   "id": "7178228b",
   "metadata": {},
   "outputs": [
    {
     "name": "stdout",
     "output_type": "stream",
     "text": [
      "Error 'numbers.txt' dosen't exist!\n"
     ]
    }
   ],
   "source": [
    "# Q6\n",
    "\n",
    "def main():\n",
    "    \n",
    "    # Open file name text.\n",
    "    B_File = \"numbers.txt\"\n",
    "    try:\n",
    "        \n",
    "        # Open file for reading\n",
    "        with open(B_File, 'r') as file:\n",
    "            \n",
    "            # Initialize variables for sum and count\n",
    "            total = 0\n",
    "            count = 0\n",
    "            \n",
    "            # read lines in the file\n",
    "            for line in file:\n",
    "                try:\n",
    "                    \n",
    "                    #convert the line to an integer\n",
    "                    number = int(line)\n",
    "                    total += number\n",
    "                    count += 1\n",
    "                    \n",
    "                # Handle vauleerror.\n",
    "                except VauleError:\n",
    "                    print(f\"skipping noninteger line: {line.strip()}\")\n",
    "            if count > 0:\n",
    "                \n",
    "                #calculate the average\n",
    "                average = total / count\n",
    "                print(f\"The average number is: {average:.2f}\")\n",
    "            else:\n",
    "                print(\"no matching number found in the file\")\n",
    "    \n",
    "    # Because we are only assuming the \"numbers.txt\" file exists, there will be an error.\n",
    "    except FileNotFoundError:\n",
    "        print(f\"Error '{B_File}' dosen't exist!\")\n",
    "    except Exception as e:\n",
    "        print(f\"Error:{e}\")\n",
    "if __name__ == \"__main__\":\n",
    "    main()\n",
    "        "
   ]
  },
  {
   "cell_type": "code",
   "execution_count": 84,
   "id": "57e2ff6d",
   "metadata": {},
   "outputs": [
    {
     "name": "stdout",
     "output_type": "stream",
     "text": [
      "Error 'numbers.txt' dosen't exist!\n"
     ]
    }
   ],
   "source": [
    "# Q9\n",
    "\n",
    "def main():\n",
    "    \n",
    "    B_File = \"numbers.txt\"\n",
    "    try:\n",
    "        \n",
    "        with open(B_File, 'r') as file:\n",
    "            \n",
    "\n",
    "            total = 0\n",
    "            count = 0\n",
    "            \n",
    "            for line in file:\n",
    "                try:\n",
    "\n",
    "                    \n",
    "                    number = int(line)\n",
    "                    total += number\n",
    "                    count += 1\n",
    "                \n",
    "                # This was already inputed from Q6, it handles the VauleError.\n",
    "                except VauleError:\n",
    "                    print(f\"skipping noninteger line: {line.strip()}\")\n",
    "            if count > 0:\n",
    "                \n",
    "                average = total / count\n",
    "                print(f\"The average number is: {average:.2f}\")\n",
    "            else:\n",
    "                print(\"no matching number found in the file\")\n",
    "    \n",
    "  \n",
    "    except FileNotFoundError:\n",
    "        print(f\"Error '{B_File}' dosen't exist!\")\n",
    "    except Exception as e:\n",
    "        print(f\"Error:{e}\")\n",
    "        \n",
    "    # Add exception for IoError\n",
    "    except IoError as e:\n",
    "        print(f\"Error, coundn't read file!:{e}\")\n",
    "        \n",
    "if __name__ == \"__main__\":\n",
    "    main()"
   ]
  },
  {
   "cell_type": "code",
   "execution_count": 93,
   "id": "086baf8a",
   "metadata": {},
   "outputs": [
    {
     "name": "stdout",
     "output_type": "stream",
     "text": [
      "Enter your name:Joey Vue\n",
      "describe yourself:I am a person\n",
      "HTML file 'user_profile.html' has been created\n"
     ]
    }
   ],
   "source": [
    "# Q11\n",
    "\n",
    "# Allow user to type in their name and description.\n",
    "name = input(\"Enter your name:\")\n",
    "description = input(\"describe yourself:\")\n",
    "\n",
    "# Create an HTML file and content.\n",
    "html_content = F\"\"\"\n",
    "\n",
    "<!DOCTYPE html>\n",
    "<html>\n",
    "<head>\n",
    "    <title>User Profile</title>\n",
    "</head>\n",
    "<body>\n",
    "    <h1> {name}!</h1>\n",
    "    <p>{description}</p>\n",
    "</body>\n",
    "</html>\n",
    "\"\"\"\n",
    "\n",
    "# Make a save for the HTML File.\n",
    "with open(\"user_profile.html\", \"w\") as file:\n",
    "    file.write(html_content)\n",
    "print(\"HTML file 'user_profile.html' has been created\")"
   ]
  },
  {
   "cell_type": "code",
   "execution_count": null,
   "id": "f2ef1c51",
   "metadata": {},
   "outputs": [],
   "source": []
  }
 ],
 "metadata": {
  "kernelspec": {
   "display_name": "Python 3 (ipykernel)",
   "language": "python",
   "name": "python3"
  },
  "language_info": {
   "codemirror_mode": {
    "name": "ipython",
    "version": 3
   },
   "file_extension": ".py",
   "mimetype": "text/x-python",
   "name": "python",
   "nbconvert_exporter": "python",
   "pygments_lexer": "ipython3",
   "version": "3.11.4"
  }
 },
 "nbformat": 4,
 "nbformat_minor": 5
}
