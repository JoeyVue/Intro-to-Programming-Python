{
 "cells": [
  {
   "cell_type": "code",
   "execution_count": null,
   "id": "f0b4fcd8",
   "metadata": {},
   "outputs": [],
   "source": [
    "# Chapter 4 Exercises\n",
    "### algorithm workbench 1,2\n",
    "### Programming exercises 1,4,11,14"
   ]
  },
  {
   "cell_type": "code",
   "execution_count": null,
   "id": "d626f123",
   "metadata": {},
   "outputs": [],
   "source": [
    "## algorithm workbench\n",
    "### Q1\n",
    "\n",
    "product = float(input(\"number must be below 100: \"))\n",
    "while product < 100:\n",
    "    product *= 10\n",
    "    print(\"The product is:\", product)\n",
    "print(\"The loop has ended.\")\n"
   ]
  },
  {
   "cell_type": "code",
   "execution_count": null,
   "id": "44fcd49d",
   "metadata": {},
   "outputs": [],
   "source": [
    "### I used float so the product may have a given vaule.\n",
    "### Then I used \"while\" to loop the given vaule"
   ]
  },
  {
   "cell_type": "code",
   "execution_count": null,
   "id": "80de646f",
   "metadata": {},
   "outputs": [],
   "source": [
    "### Q2\n",
    "\n",
    "continue_calculation = 'yes'\n",
    "while continue_calculation == 'yes':\n",
    "    number1 = float(input(\"number:\"))\n",
    "    number2 = float(input(\"number:\"))\n",
    "    total = number1 + number2\n",
    "    print(f\"The sum of both numbers is {total}.\")\n",
    "    continue_calculation = input(\"end?:\")\n",
    "    print(\"The loop has ended.\")\n",
    "    "
   ]
  },
  {
   "cell_type": "code",
   "execution_count": null,
   "id": "b66ada5f",
   "metadata": {},
   "outputs": [],
   "source": [
    "## Programming exercises\n",
    "### Q1\n",
    "\n",
    "num_weeks = int(input(\"the number of weeks you want to collect bugs for: \"))\n",
    "for week in range(1, num_weeks + 1):\n",
    "    total_bugs = 0\n",
    "    for day in range(1, 6):\n",
    "        bugs_collected = int(input(f\"the number of bugs collected on day {day} of week {week}: \"))\n",
    "        total_bugs += bugs_collected\n",
    "        combined_total_bugs += total_bugs"
   ]
  },
  {
   "cell_type": "code",
   "execution_count": null,
   "id": "0a905139",
   "metadata": {},
   "outputs": [],
   "source": [
    "### I used \"int\" so the number of weeks may have a given vaule.\n",
    "### I then \"for\" and \"in\" command to expand the range depending on number of weeks given.\n",
    "### Then the bugs collected will be added up with the combined_total_bugs."
   ]
  },
  {
   "cell_type": "code",
   "execution_count": null,
   "id": "2480e7f8",
   "metadata": {},
   "outputs": [],
   "source": [
    "### Q4\n",
    "\n",
    "speed = float(input(\"speed of the vehicle (mph): \"))\n",
    "hours = int(input(\" the vehicle has traveled: \"))\n",
    "print(\"\\nHour\\tDistance Traveled\")\n",
    "for hour in range(1, hours + 1):\n",
    "    distance = speed * hour\n",
    "    print(f\"{hour}\\t{distance} miles\")"
   ]
  },
  {
   "cell_type": "code",
   "execution_count": null,
   "id": "83cf7c7b",
   "metadata": {},
   "outputs": [],
   "source": [
    "### I used float so the speed may have a given vaule.\n",
    "### Then used \"int\" so you can add how many hours you will travel.\n",
    "### Then I used the \"for\" command to loop the distance.\n",
    "### The loop expands depend on the hours.\n"
   ]
  },
  {
   "cell_type": "code",
   "execution_count": null,
   "id": "e8a591a4",
   "metadata": {},
   "outputs": [],
   "source": [
    "### Q11\n",
    "\n",
    "def factorial(n):\n",
    "    if n == 0:\n",
    "        return 1\n",
    "    else:\n",
    "        result = 1\n",
    "        for i in range(1, n + 1):\n",
    "            result *= i\n",
    "        return result\n",
    "    while True:\n",
    "    try:\n",
    "        n = int(input(\"Enter a nonnegative number: \"))\n",
    "        if n < 0:\n",
    "            print(\"Enter a nonnegative number.\")\n",
    "        else:\n",
    "            break\n",
    "    except ValueError:\n",
    "        print(\"Must be a nonnegative number.\")\n",
    "        result = factorial(n)\n",
    "print(f\"The factorial of {n} is {result}\")\""
   ]
  },
  {
   "cell_type": "code",
   "execution_count": null,
   "id": "5dd158f0",
   "metadata": {},
   "outputs": [],
   "source": [
    "### I used \"def\" and made the given range to calculate the given vaule\"\n",
    "### If the number is still negative, the while \"True\" command should still be active.\n",
    "### Once a number is positive, then the loop will stop."
   ]
  },
  {
   "cell_type": "code",
   "execution_count": null,
   "id": "7f78e4b5",
   "metadata": {},
   "outputs": [],
   "source": [
    "### Q14\n",
    "\n",
    "num_rows = 6\n",
    "for y in range(num_rows):\n",
    "    for x in range(num_rows):\n",
    "        if x == y or x == 0:\n",
    "            print(\"#\", end=\"\")\n",
    "        else:\n",
    "            print(\" \", end=\"\")\n",
    "    print()"
   ]
  },
  {
   "cell_type": "code",
   "execution_count": null,
   "id": "d2176d6f",
   "metadata": {},
   "outputs": [],
   "source": [
    "### I made a vaule for the amount of rows for the \"#\"\n",
    "### Then I gave the number a ranged amount of rows with \"x\" and \"y\"\n",
    "### Spaces are then printed to space out the \"#\""
   ]
  }
 ],
 "metadata": {
  "kernelspec": {
   "display_name": "Python 3 (ipykernel)",
   "language": "python",
   "name": "python3"
  },
  "language_info": {
   "codemirror_mode": {
    "name": "ipython",
    "version": 3
   },
   "file_extension": ".py",
   "mimetype": "text/x-python",
   "name": "python",
   "nbconvert_exporter": "python",
   "pygments_lexer": "ipython3",
   "version": "3.11.4"
  }
 },
 "nbformat": 4,
 "nbformat_minor": 5
}
