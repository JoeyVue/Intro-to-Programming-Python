{
 "cells": [
  {
   "cell_type": "markdown",
   "id": "c14a0d2b",
   "metadata": {},
   "source": [
    "# Chapter 11 exercise\n",
    "## Programming exercises 1,2"
   ]
  },
  {
   "cell_type": "markdown",
   "id": "e8702336",
   "metadata": {},
   "source": [
    "#### Write an  class that keeps data attributes for the following pieces of information:  Employee nameEmployee numberNext, write a class named  that is a subclass of the  class. The  class should keep data attributes for the following information:  Shift number (an integer, such as 1, 2, or 3)Hourly pay rateThe workday is divided into two shifts: day and night. The shift attribute will hold an integer value representing the shift that the employee works. The day shift is shift 1 and the night shift is shift 2. Write the appropriate accessor and mutator methods for each class.Once you have written the classes, write a program that creates an object of the  class and prompts the user to enter data for each of the object’s data attributes. Store the data in the object, then use the object’s accessor methods to retrieve it and display it on the screen."
   ]
  },
  {
   "cell_type": "code",
   "execution_count": 27,
   "id": "f7c36a44",
   "metadata": {},
   "outputs": [
    {
     "name": "stdout",
     "output_type": "stream",
     "text": [
      "Enter employee name: Tim\n",
      "Enter employee number: 14917\n",
      "Enter shift number (1 for day, 2 for night): 1\n",
      "Enter hourly pay rate: 20\n",
      "\n",
      "Employee Information:\n",
      "Name: Tim\n",
      "Employee Number: 14917\n",
      "Shift Number: 1\n",
      "Hourly Pay Rate: $ 20.0\n"
     ]
    }
   ],
   "source": [
    "# Q1\n",
    "\n",
    "class Employee:\n",
    "    def __init__(self, name, emp_number):\n",
    "        self.name = name\n",
    "        self.emp_number = emp_number\n",
    "        \n",
    "    # Accessor methods\n",
    "    def get_name(self):\n",
    "        return self.name\n",
    "    \n",
    "    def get_emp_number(self):\n",
    "        return self.emp_number\n",
    "\n",
    "    def set_name(self, name):\n",
    "        self.name = name\n",
    "        \n",
    "    def set_emp_number(self, emp_number):\n",
    "        self.emp_number = emp_number\n",
    "        \n",
    "class ShiftEmployee(Employee):\n",
    "    def __init__(self, name, emp_number, shift_number, hourly_pay_rate):\n",
    "        # Call the constructor of the base class (Employee)\n",
    "        super().__init__(name, emp_number)\n",
    "        self.shift_number = shift_number\n",
    "        self.hourly_pay_rate = hourly_pay_rate\n",
    "        \n",
    "    # Accessor for ShiftEmployee\n",
    "    def get_shift_number(self):\n",
    "        return self.shift_number\n",
    "    \n",
    "    def get_hourly_pay_rate(self):\n",
    "        return self.hourly_pay_rate\n",
    "    \n",
    "    # Mutator for ShiftEmployee\n",
    "    def set_shift_number(self, shift_number):\n",
    "        self.shift_number = shift_number\n",
    "        \n",
    "    def set_hourly_pay_rate(self, hourly_pay_rate):\n",
    "        self.hourly_pay_rate = hourly_pay_rate\n",
    "        \n",
    "    # Set layout for ShiftEmployee class\n",
    "def main():\n",
    "    # Prompt the user for input\n",
    "    name = input(\"Enter employee name: \")\n",
    "    emp_number = input(\"Enter employee number: \")\n",
    "    shift_number = int(input(\"Enter shift number (1 for day, 2 for night): \"))\n",
    "    hourly_pay_rate = float(input(\"Enter hourly pay rate: \"))\n",
    "    \n",
    " # Create an object for ShiftEmployee class\n",
    "    employee_obj = ShiftEmployee(name, emp_number, shift_number, hourly_pay_rate)\n",
    "    \n",
    "    # Display the information using accessor method\n",
    "    print(\"\\nEmployee Information:\")\n",
    "    print(\"Name:\", employee_obj.get_name())\n",
    "    print(\"Employee Number:\", employee_obj.get_emp_number())\n",
    "    print(\"Shift Number:\", employee_obj.get_shift_number())\n",
    "    print(\"Hourly Pay Rate: $\",employee_obj.get_hourly_pay_rate())\n",
    "    \n",
    "if __name__ == \"__main__\":\n",
    "    main()"
   ]
  },
  {
   "cell_type": "markdown",
   "id": "e010c998",
   "metadata": {},
   "source": [
    "first, I coded the class for the employee, So I am able to get vaules from the atteibute and mutator methods. The vaules then can be modified. I made \"ShiftEmployee\" into a subclass, to create the attributes of \"shift number\" and \"hourly pay rate.\" Then I used the\"main\" funtion to create the entry and end the script.\n",
    "\n"
   ]
  },
  {
   "cell_type": "markdown",
   "id": "402ccebc",
   "metadata": {},
   "source": [
    "#### In a particular factory, a shift supervisor is a salaried employee who supervises a shift. In addition to a salary, the shift supervisor earns a yearly bonus when his or her shift meets production goals. Write a  class that is a subclass of the  class you created in Programming Exercise 1. The  class should keep a data attribute for the annual salary, and a data attribute for the annual production bonus that a shift supervisor has earned. Demonstrate the class by writing a program that uses a  object."
   ]
  },
  {
   "cell_type": "code",
   "execution_count": 41,
   "id": "9cd4b186",
   "metadata": {},
   "outputs": [
    {
     "name": "stdout",
     "output_type": "stream",
     "text": [
      "Enter supervisor name: Lin\n",
      "Enter supervisor number: 18510\n",
      "Enter shift number (1 for day, 2 for night): 1\n",
      "Enter hourly pay rate: 30\n",
      "Enter annual salary: 50\n",
      "Enter annual production bonus: 1000\n",
      "\n",
      "Supervisor Information:\n",
      "Name: Lin\n",
      "Employee Number: 18510\n",
      "Shift Number: 1\n",
      "Hourly Pay Rate: $ 30.0\n",
      "Annual Salary: $ 50.0\n"
     ]
    }
   ],
   "source": [
    "# Q2\n",
    "\n",
    "class ShiftSupervisor(ShiftEmployee):\n",
    "    def __init__(self, name, emp_number, shift_number, hourly_pay_rate, annual_salary, annual_bonus):\n",
    "        # Call the constructor of the base class (ShiftEmployee)\n",
    "        super().__init__(name, emp_number, shift_number, hourly_pay_rate)\n",
    "        self.annual_salary = annual_salary\n",
    "        self.annual_bonus = annual_bonus\n",
    "\n",
    "    # Accessor methods for ShiftSupervisor\n",
    "    def get_annual_salary(self):\n",
    "        return self.annual_salary\n",
    "\n",
    "    def get_annual_bonus(self):\n",
    "        return self.annual_bonus\n",
    "\n",
    "    # Mutator methods for ShiftSupervisor\n",
    "    def set_annual_salary(self, annual_salary):\n",
    "        self.annual_salary = annual_salary\n",
    "\n",
    "    def set_annual_bonus(self, annual_bonus):\n",
    "        self.annual_bonus = annual_bonus\n",
    "\n",
    "\n",
    "# Prompt the user for input\n",
    "def main():\n",
    "    name = input(\"Enter supervisor name: \")\n",
    "    emp_number = input(\"Enter supervisor number: \")\n",
    "    shift_number = int(input(\"Enter shift number (1 for day, 2 for night): \"))\n",
    "    hourly_pay_rate = float(input(\"Enter hourly pay rate: \"))\n",
    "    annual_salary = float(input(\"Enter annual salary: \"))\n",
    "    annual_bonus = float(input(\"Enter annual production bonus: \"))\n",
    "\n",
    "    # Create an object for ShiftSupervisor class\n",
    "    supervisor_obj = ShiftSupervisor(name, emp_number, shift_number, hourly_pay_rate, annual_salary, annual_bonus)\n",
    "\n",
    "    # Display the information using accessor method\n",
    "    print(\"\\nSupervisor Information:\")\n",
    "    print(\"Name:\", supervisor_obj.get_name())\n",
    "    print(\"Employee Number:\", supervisor_obj.get_emp_number())\n",
    "    print(\"Shift Number:\", supervisor_obj.get_shift_number())\n",
    "    print(\"Hourly Pay Rate: $\", supervisor_obj.get_hourly_pay_rate())\n",
    "    print(\"Annual Salary: $\", supervisor_obj.get_annual_salary())\n",
    "\n",
    "\n",
    "if __name__ == \"__main__\":\n",
    "    main()"
   ]
  },
  {
   "cell_type": "markdown",
   "id": "eb0ce1c9",
   "metadata": {},
   "source": [
    "This one is about the same as question 1. I created a class for the \"Shiftsupervisor.\" I then constructed the bases for the class. I reused the Accessor and Mutator methods from Q1. For the supervisor Prompt, I added \"annual_salary\" and \"annual_bonus.\" Then I used the\"main\" funtion to create the entry and end the script."
   ]
  },
  {
   "cell_type": "markdown",
   "id": "3567acae",
   "metadata": {},
   "source": [
    "\n",
    "Q: Create a table that lists the adverage grade from the user's input. The table must display the grade letters equivalent to the percent. The table will have at least 5 given inputs of the person's grades and will adverage the score."
   ]
  },
  {
   "cell_type": "code",
   "execution_count": null,
   "id": "88920079",
   "metadata": {},
   "outputs": [],
   "source": [
    "# Create PrettyTable\n",
    "from prettytable import PrettyTable\n",
    "\n",
    "def get_grade(percent):\n",
    "    if percent >= 90:\n",
    "        return \"A\"\n",
    "    elif percent >= 80:\n",
    "        return \"B\"\n",
    "    elif percent >= 70:\n",
    "        return \"C\"\n",
    "    elif percent >= 60:\n",
    "        return \"D\"\n",
    "    else:\n",
    "        return \"F\"\n",
    "\n",
    "def main():\n",
    "    # Create a PrettyTable object\n",
    "    table = PrettyTable()\n",
    "\n",
    "    # Add columns to the table\n",
    "    table.field_names = [\"Grade Percentage\", \"Grade\", \"Numeric Score\"]\n",
    "\n",
    "    total_percent = 0\n",
    "\n",
    "    # Prompt the user for 5 inputs\n",
    "    for _ in range(5):\n",
    "        while True:\n",
    "            try:\n",
    "                percent = float(input(\"Enter grade percentage (0-100): \"))\n",
    "                if 0 <= percent <= 100:\n",
    "                    break\n",
    "                else:\n",
    "                    print(\"enter a number 0-100.\")\n",
    "            except ValueError:\n",
    "                print(\"enter a number 0-100.\")\n",
    "\n",
    "        # Add a row to the table\n",
    "        table.add_row([percent, get_grade(percent), percent])\n",
    "\n",
    "        # Accumulate total percentage for calculating average\n",
    "        total_percent += percent\n",
    "\n",
    "    # Calculate the average grade percentage\n",
    "    average_percent = total_percent / 5\n",
    "\n",
    "    # Calculate the average numeric score\n",
    "    average_numeric_score = average_percent\n",
    "\n",
    "    # Add a row for the average grade to the table\n",
    "    table.add_row([\"Average\", get_grade(average_percent), average_numeric_score])\n",
    "\n",
    "    # Print the table\n",
    "    print(table)\n",
    "\n",
    "if __name__ == \"__main__\":\n",
    "    main()"
   ]
  },
  {
   "cell_type": "markdown",
   "id": "55d67ef1",
   "metadata": {},
   "source": [
    "This is Displayed in collabatory for the table"
   ]
  },
  {
   "cell_type": "code",
   "execution_count": null,
   "id": "a0f86ff2",
   "metadata": {},
   "outputs": [],
   "source": []
  }
 ],
 "metadata": {
  "kernelspec": {
   "display_name": "Python 3 (ipykernel)",
   "language": "python",
   "name": "python3"
  },
  "language_info": {
   "codemirror_mode": {
    "name": "ipython",
    "version": 3
   },
   "file_extension": ".py",
   "mimetype": "text/x-python",
   "name": "python",
   "nbconvert_exporter": "python",
   "pygments_lexer": "ipython3",
   "version": "3.11.4"
  }
 },
 "nbformat": 4,
 "nbformat_minor": 5
}
