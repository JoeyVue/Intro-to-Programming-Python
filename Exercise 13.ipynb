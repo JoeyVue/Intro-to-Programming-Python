{
 "cells": [
  {
   "cell_type": "markdown",
   "id": "3ac8bd5f",
   "metadata": {},
   "source": [
    "# Chapter 13 exercise\n",
    "## Programming exercises Q3"
   ]
  },
  {
   "cell_type": "markdown",
   "id": "cf38abe0",
   "metadata": {},
   "source": [
    "Write a GUI program that calculates a car’s gas mileage. The program’s window should have  widgets that let the user enter the number of gallons of gas the car holds, and the number of miles it can be driven on a full tank. When a Calculate MPG button is clicked, the program should display the number of miles that the car may be driven per gallon of gas. Use the following formula to calculate miles-per-gallon:\n",
    "\n",
    "MPG = miles/gallons"
   ]
  },
  {
   "cell_type": "code",
   "execution_count": 24,
   "id": "65269fec",
   "metadata": {},
   "outputs": [],
   "source": [
    "# Q3\n",
    "\n",
    "import tkinter as tk\n",
    "\n",
    "# calculate and display MPG\n",
    "def calculate_mpg():\n",
    "    try:\n",
    "        # Get input values as floats\n",
    "        gallons = float(entry_gallons.get())\n",
    "        miles = float(entry_miles.get())\n",
    "        \n",
    "        # Calculate MPG\n",
    "        mpg = miles / gallons\n",
    "        \n",
    "        #display the result with two decimal places\n",
    "        result_label.config(text=f\"MPG: {mpg:.2f}\")\n",
    "        \n",
    "        # Display error message for invalid inputs\n",
    "    except ValueError:\n",
    "        result_label.config(text=\"Please enter valid numbers.\")\n",
    "        \n",
    "#create the main window\n",
    "window = tk.Tk()\n",
    "window.title(\"Gas Mileage Calculator\")\n",
    "\n",
    "# Create widgets for gallons input\n",
    "label_gallons = tk.Label(window, text=\"Gallons of gas:\")\n",
    "label_gallons.grid(row=0, column=0, padx=10, pady=10)\n",
    "entry_gallons = tk.Entry(window)\n",
    "entry_gallons.grid(row=0, column=1, padx=10, pady=10)\n",
    "\n",
    "# Create widgets for miles input\n",
    "label_miles = tk.Label(window, text=\"Miles on a full tank:\")\n",
    "label_miles.grid(row=1, column=0, padx=10, pady=10)\n",
    "entry_miles = tk.Entry(window)\n",
    "entry_miles.grid(row=1, column=1, padx=10, pady=10)\n",
    "\n",
    "# create button for MPG calculation\n",
    "calculate_button = tk.Button(window, text=\"Calculate MPG\", command=calculate_mpg)\n",
    "calculate_button.grid(row=2, column=0, columnspan=2, pady=10)\n",
    "\n",
    "# Create label to display the result\n",
    "result_label = tk.Label(window, text=\"\")\n",
    "result_label.grid(row=3, column=0, columnspan=2, pady=10)\n",
    "\n",
    "# Main loop\n",
    "window.mainloop()"
   ]
  },
  {
   "cell_type": "markdown",
   "id": "23acf54a",
   "metadata": {},
   "source": [
    "I program the main window with entry fields for the gallons of gas and miles on a full tank. I then created a button to trigger the MPG calculation, and a label to display the result. The \"calculate_mpg\" retrieves user inputs, performs the MPG calculation, and updates the result label. I organized the GUI in a grid layout, and the program runs in an event loop, using the user inputs. If the user enters invalid input, the program will make an error message."
   ]
  },
  {
   "cell_type": "markdown",
   "id": "6e40233f",
   "metadata": {},
   "source": [
    "This coding opens as an application, so it cannot be displayed."
   ]
  },
  {
   "cell_type": "code",
   "execution_count": null,
   "id": "66be790e",
   "metadata": {},
   "outputs": [],
   "source": []
  }
 ],
 "metadata": {
  "kernelspec": {
   "display_name": "Python 3 (ipykernel)",
   "language": "python",
   "name": "python3"
  },
  "language_info": {
   "codemirror_mode": {
    "name": "ipython",
    "version": 3
   },
   "file_extension": ".py",
   "mimetype": "text/x-python",
   "name": "python",
   "nbconvert_exporter": "python",
   "pygments_lexer": "ipython3",
   "version": "3.11.4"
  }
 },
 "nbformat": 4,
 "nbformat_minor": 5
}
