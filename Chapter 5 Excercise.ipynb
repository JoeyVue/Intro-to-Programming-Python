{
 "cells": [
  {
   "cell_type": "code",
   "execution_count": 1,
   "id": "87326feb",
   "metadata": {},
   "outputs": [],
   "source": [
    "# Chapter 5 exercise\n",
    "### Algorithm Workbench 1, 2\n",
    "### Programming exercises 16, 17, 18, 10"
   ]
  },
  {
   "cell_type": "code",
   "execution_count": 14,
   "id": "d8edfc4a",
   "metadata": {},
   "outputs": [
    {
     "name": "stdout",
     "output_type": "stream",
     "text": [
      "Enter a number: 14\n",
      "Result: 140.0\n"
     ]
    }
   ],
   "source": [
    "## Algorithm Workbench\n",
    "### Q1\n",
    "\n",
    "def ten_times():\n",
    "    try:\n",
    "        user_number = float(input(\"Enter a number: \"))\n",
    "        result = user_number * 10\n",
    "        print(\"Result:\", result)\n",
    "    except ValueError:\n",
    "        print(\"input must be a number.\")\n",
    "ten_times()"
   ]
  },
  {
   "cell_type": "code",
   "execution_count": 12,
   "id": "fec9e248",
   "metadata": {},
   "outputs": [],
   "source": [
    "### I used the def input to create an function.\n",
    "### I then made the input for the user's given vaule. The User's number will then be multiplied by 10.\n",
    "### The \"except\" function activates if \"try\" fails."
   ]
  },
  {
   "cell_type": "code",
   "execution_count": null,
   "id": "13ceefb8",
   "metadata": {},
   "outputs": [],
   "source": [
    "### Q2\n",
    "\n",
    "def my_function(argument):\n",
    "my_function(12)"
   ]
  },
  {
   "cell_type": "code",
   "execution_count": null,
   "id": "7c1bd172",
   "metadata": {},
   "outputs": [],
   "source": [
    "### I wrote a header for any given argument to pass 12 as an argument."
   ]
  },
  {
   "cell_type": "code",
   "execution_count": 19,
   "id": "f9a4d2a1",
   "metadata": {},
   "outputs": [
    {
     "name": "stdout",
     "output_type": "stream",
     "text": [
      "Enter a distance in kilometers: 15\n",
      "15.0 kilometers is equal to 9.321 miles\n"
     ]
    }
   ],
   "source": [
    "## Programming exercises\n",
    "### Q1\n",
    "\n",
    "def km_to_miles(kilometers):\n",
    "    miles = kilometers * 0.6214\n",
    "    return miles\n",
    "kilometers = float(input(\"Enter a distance in kilometers: \"))\n",
    "miles = km_to_miles(kilometers)\n",
    "print(f\"{kilometers} kilometers is equal to {miles} miles\")"
   ]
  },
  {
   "cell_type": "code",
   "execution_count": null,
   "id": "b0d47da0",
   "metadata": {},
   "outputs": [],
   "source": [
    "### I created an input function with \"def\" for miles to kilometers.\n",
    "### I then wrote the formular for miles to kilometers.\n",
    "### I then created a float so the user can input a given vaule\n",
    "### The print will use the kilometer and miles vaule inputs."
   ]
  },
  {
   "cell_type": "code",
   "execution_count": 45,
   "id": "50714f28",
   "metadata": {},
   "outputs": [
    {
     "name": "stdout",
     "output_type": "stream",
     "text": [
      "Enter a positive number: 5\n",
      "5 is a prime number.\n"
     ]
    }
   ],
   "source": [
    "### Q16\n",
    "\n",
    "def is_prime(number):\n",
    "    if number <= 1:\n",
    "        return False\n",
    "    if number <= 3:\n",
    "        return True\n",
    "    if number % 2 == 0 or number % 3 == 0:\n",
    "        return False\n",
    "    prime_number = 5\n",
    "    while prime_number * prime_number <= number:\n",
    "        if number % prime_number == 0 or number % (prime_number + 2) == 0:\n",
    "            return False\n",
    "        prime_number += 6\n",
    "    return True\n",
    "def main():\n",
    "    try:\n",
    "        user_input = int(input(\"Enter a positive number: \"))\n",
    "        if is_prime(user_input):\n",
    "            print(f\"{user_input} is a prime number.\")\n",
    "        else:\n",
    "            print(f\"{user_input} is not a prime number.\")\n",
    "    except ValueError:\n",
    "        print(\"Input must be a positive number.\")\n",
    "if __name__ == \"__main__\":\n",
    "    main()"
   ]
  },
  {
   "cell_type": "code",
   "execution_count": 44,
   "id": "129ba287",
   "metadata": {},
   "outputs": [],
   "source": [
    "### I used the def input to create an function, as well as listing the prime vaules with the greater or equal to input.\n",
    "### i created true and false statements when the given vaule is a prime or not.\n",
    "### A second def input is created to print the given number and print it as a prime or not.\n",
    "### The \"try\" and \"except\" commands will activate if given vaule isn't the selected input."
   ]
  },
  {
   "cell_type": "code",
   "execution_count": 56,
   "id": "c17ad87f",
   "metadata": {},
   "outputs": [
    {
     "name": "stdout",
     "output_type": "stream",
     "text": [
      "2\n",
      "3\n",
      "5\n",
      "7\n",
      "11\n",
      "13\n",
      "17\n",
      "19\n",
      "23\n",
      "29\n",
      "31\n",
      "37\n",
      "41\n",
      "43\n",
      "47\n",
      "53\n",
      "59\n",
      "61\n",
      "67\n",
      "71\n",
      "73\n",
      "79\n",
      "83\n",
      "89\n",
      "97\n"
     ]
    }
   ],
   "source": [
    "### Q17\n",
    "\n",
    "def is_prime(number):\n",
    "    if number <= 1:\n",
    "        return False\n",
    "    elif number <= 3:\n",
    "        return True\n",
    "    elif number % 2 == 0 or number % 3 == 0:\n",
    "        return False\n",
    "    prime_number = 5\n",
    "    while prime_number * prime_number <= number:\n",
    "        if number % prime_number == 0 or number % (prime_number + 2) == 0:\n",
    "            return False\n",
    "        prime_number += 6\n",
    "    return True\n",
    "\n",
    "for number in range(1, 100):\n",
    "    if is_prime(number):\n",
    "        print(number)"
   ]
  },
  {
   "cell_type": "code",
   "execution_count": null,
   "id": "128bbc3e",
   "metadata": {},
   "outputs": [],
   "source": [
    "### I reused some of the codes from Q16\n",
    "### I created an \"if\" statement to list the prime numbers. (numbers set to true)\n",
    "### Then I made an \"for\" command to unput the number ranged 1 - 100 to be listed."
   ]
  },
  {
   "cell_type": "code",
   "execution_count": 62,
   "id": "af04d0b2",
   "metadata": {},
   "outputs": [
    {
     "name": "stdout",
     "output_type": "stream",
     "text": [
      "Enter the principal amount: 12\n",
      "Enter the annual interest rate (in percentage): .85\n",
      "Enter the number of times interest is compounded per year: 45\n",
      "Enter the number of years: 5\n",
      "The future amount after 5 years will be: $12.52\n"
     ]
    }
   ],
   "source": [
    "### Q18\n",
    "\n",
    "def calculate_future_amount(principal, annual_interest_rate, compounding_frequency, years):\n",
    "    rates = annual_interest_rate / 100\n",
    "    Save = principal * (1 + rates / compounding_frequency) ** (compounding_frequency * years)\n",
    "    return Save\n",
    "principal = float(input(\"Enter the principal amount: \"))\n",
    "annual_interest_rate = float(input(\"Enter the annual interest rate (in percentage): \"))\n",
    "compounding_frequency = int(input(\"Enter the number of times interest is compounded per year: \"))\n",
    "years = int(input(\"Enter the number of years: \"))\n",
    "future_amount = calculate_future_amount(principal, annual_interest_rate, compounding_frequency, years)\n",
    "print(f\"The future amount after {years} years will be: ${future_amount:.2f}\")"
   ]
  },
  {
   "cell_type": "code",
   "execution_count": 60,
   "id": "fb80c804",
   "metadata": {},
   "outputs": [],
   "source": [
    "### I used the \"def\" input to create a function that calculates principal, annual_interest_rate, compounding_frequency, years.\n",
    "### I gave \"rates\" and \"save\" vaules, that will be put into the inputed formulas.\n",
    "### I used the \"float\" command so the user can enter a given vaule to the 4 inputs.\n",
    "### Print will use the calculated formula to list the calculated input and years."
   ]
  },
  {
   "cell_type": "code",
   "execution_count": 81,
   "id": "5b244b62",
   "metadata": {},
   "outputs": [
    {
     "name": "stdout",
     "output_type": "stream",
     "text": [
      "What is 48 + 73?\n",
      "Your answer: 121\n",
      "Congratulations.\n"
     ]
    }
   ],
   "source": [
    "### Q10\n",
    "\n",
    "import random\n",
    "\n",
    "def generate_quiz():\n",
    "    number1 = random.randint(1, 100)\n",
    "    number2 = random.randint(1, 100)\n",
    "    correct_answer = number1 + number2\n",
    "    return number1, number2, correct_answer\n",
    "def main():\n",
    "    \n",
    "    number1, number2, correct_answer = generate_quiz()\n",
    "    print(f\"What is {number1} + {number2}?\")\n",
    "    user_answer = int(input(\"Your answer: \"))\n",
    "    if user_answer == correct_answer:\n",
    "        print(\"Congratulations.\")\n",
    "    else:\n",
    "        print(f\"Wrong! the correct answer is {correct_answer}.\")\n",
    "if __name__ == \"__main__\":\n",
    "    main()"
   ]
  },
  {
   "cell_type": "code",
   "execution_count": null,
   "id": "13083252",
   "metadata": {},
   "outputs": [],
   "source": [
    "### I used \"import\" to generate a random number for \"number1\" and \"number2\"\n",
    "### I then input the equation for \"number1\" and \"number2\" and gave the added number a vaule\n",
    "### I had random numbers then be printed \n",
    "### I used the \"if\" command to compare the user's answer with the calculated anwser.\n",
    "### Then I created an \"else\" senario if answer is wrong."
   ]
  },
  {
   "cell_type": "code",
   "execution_count": null,
   "id": "16ca9f34",
   "metadata": {},
   "outputs": [],
   "source": []
  }
 ],
 "metadata": {
  "kernelspec": {
   "display_name": "Python 3 (ipykernel)",
   "language": "python",
   "name": "python3"
  },
  "language_info": {
   "codemirror_mode": {
    "name": "ipython",
    "version": 3
   },
   "file_extension": ".py",
   "mimetype": "text/x-python",
   "name": "python",
   "nbconvert_exporter": "python",
   "pygments_lexer": "ipython3",
   "version": "3.11.4"
  }
 },
 "nbformat": 4,
 "nbformat_minor": 5
}
